{
 "cells": [
  {
   "cell_type": "code",
   "execution_count": 11,
   "metadata": {},
   "outputs": [],
   "source": [
    "import pandas as pd\n",
    "import h5py\n",
    "import numpy as np\n",
    "import matplotlib.pyplot as plt\n",
    "import os\n",
    "from pathlib import Path, PureWindowsPath"
   ]
  },
  {
   "cell_type": "code",
   "execution_count": 12,
   "metadata": {},
   "outputs": [],
   "source": [
    "# constants  #\n",
    "#------------#\n",
    "HDF5_dir = \"C:\\MessdatenStoeckach\\\\\"\n",
    "resampled_dir = r'C:\\resampled'\n",
    "dates = os.listdir(HDF5_dir)\n",
    "phases = [\"0\",\"1\",\"2\",\"3\"]"
   ]
  },
  {
   "cell_type": "code",
   "execution_count": 3,
   "metadata": {},
   "outputs": [],
   "source": [
    "def groupedAvg(myArray, N=2):\n",
    "    result = np.cumsum(myArray, 0)[N-1::N]/float(N)\n",
    "    result[1:] = result[1:] - result[:-1]\n",
    "    return result"
   ]
  },
  {
   "cell_type": "code",
   "execution_count": 10,
   "metadata": {},
   "outputs": [
    {
     "name": "stdout",
     "output_type": "stream",
     "text": [
      "2017-04-10\n",
      "0_u\n",
      "1_u\n",
      "2_u\n",
      "3_u\n",
      "0_i\n",
      "1_i\n",
      "2_i\n",
      "3_i\n",
      "2017-04-21\n",
      "0_u\n",
      "1_u\n",
      "2_u\n",
      "3_u\n",
      "0_i\n",
      "1_i\n",
      "2_i\n",
      "3_i\n",
      "Wall time: 32min 8s\n"
     ]
    }
   ],
   "source": [
    "%%time\n",
    "for date in dates:\n",
    "    print(date)\n",
    "    with h5py.File(HDF5_dir + date + \"\\\\\" + \"harmonics_phase_\" + \"0\" + \"_\" + date + \".h5\", 'r') as f:\n",
    "            timestamps = np.array(f[\"tenperiodtable\"][\"timestamp\"])\n",
    "   \n",
    "    newLength = len(timestamps)//3000\n",
    "    dayly_aggregated_u = np.zeros([newLength,2960])\n",
    "    dayly_aggregated_i = np.zeros([newLength,2960])\n",
    "    dayly_max_u = np.zeros([0,2960])\n",
    "    dayly_max_i = np.zeros([0,2960])\n",
    "    \n",
    "    for phase in phases:\n",
    "        print(phase + \"_u\")\n",
    "        with h5py.File(HDF5_dir + date + \"\\\\\" + \"harmonics_phase_\" + phase + \"_\" + date + \".h5\", 'r') as f:\n",
    "            sh_u = np.array(f[\"tenperiodtable\"][\"harmonics_u\"][:,38:], dtype=np.float32)\n",
    "        sh_agg_u = groupedAvg(sh_u, 3000)\n",
    "        sh_u_max = np.amax(sh_u, axis=0)\n",
    "        dayly_aggregated_u += sh_agg_u\n",
    "        dayly_max_u = np.vstack([dayly_max_u, sh_u_max])\n",
    "        del sh_u\n",
    "        del sh_agg_u\n",
    "        del sh_u_max\n",
    "    dayly_agg_u_df = pd.DataFrame((dayly_aggregated_u/4), index=timestamps[3000::3000])\n",
    "    dayly_agg_u_df.to_excel(resampled_dir + \"\\\\\" + \"u\" + \"\\\\\" + date + \"_harmonics10min_u.xlsx\")  \n",
    "    pd.DataFrame(np.amax(dayly_max_u, axis=0)).to_excel(resampled_dir + \"\\\\\" + \"max\" + \"\\\\\" + \"u\" + \"\\\\\" + date + \"_max_u.xlsx\")\n",
    "    \n",
    "    for phase in phases:\n",
    "        print(phase + \"_i\")\n",
    "        with h5py.File(HDF5_dir + date + \"\\\\\" + \"harmonics_phase_\" + phase + \"_\" + date + \".h5\", 'r') as f:\n",
    "            sh_i = np.array(f[\"tenperiodtable\"][\"harmonics_i\"][:,38:], dtype=np.float32)\n",
    "        sh_agg_i = groupedAvg(sh_i, 3000)\n",
    "        sh_i_max = np.amax(sh_i, axis=0)\n",
    "        dayly_aggregated_i += sh_agg_i\n",
    "        dayly_max_i = np.vstack([dayly_max_i, sh_i_max])\n",
    "        del sh_i\n",
    "        del sh_agg_i\n",
    "        del sh_i_max\n",
    "    dayly_agg_i_df = pd.DataFrame((dayly_aggregated_i/4), index=timestamps[3000::3000])\n",
    "    dayly_agg_i_df.to_excel(resampled_dir + \"\\\\\" + \"i\" + \"\\\\\" + date + \"_harmonics10min_i.xlsx\")  \n",
    "    pd.DataFrame(np.amax(dayly_max_u, axis=0)).to_excel(resampled_dir + \"\\\\\" + \"max\" + \"\\\\\" + \"i\" + \"\\\\\" + date + \"_max_i.xlsx\")\n",
    "    "
   ]
  }
 ],
 "metadata": {
  "kernelspec": {
   "display_name": "Python 3",
   "language": "python",
   "name": "python3"
  },
  "language_info": {
   "codemirror_mode": {
    "name": "ipython",
    "version": 3
   },
   "file_extension": ".py",
   "mimetype": "text/x-python",
   "name": "python",
   "nbconvert_exporter": "python",
   "pygments_lexer": "ipython3",
   "version": "3.7.7"
  }
 },
 "nbformat": 4,
 "nbformat_minor": 4
}
