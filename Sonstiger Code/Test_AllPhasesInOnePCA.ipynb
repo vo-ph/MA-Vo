{
 "cells": [
  {
   "cell_type": "code",
   "execution_count": 1,
   "metadata": {},
   "outputs": [],
   "source": [
    "import pandas as pd\n",
    "import h5py\n",
    "import numpy as np\n",
    "import matplotlib.pyplot as plt"
   ]
  },
  {
   "cell_type": "code",
   "execution_count": 2,
   "metadata": {},
   "outputs": [],
   "source": [
    "with h5py.File(\"C:\\MessdatenStoeckach\\\\2017-03-02\\harmonics_phase_1_2017-03-02.h5\", \"r\") as f:\n",
    "    dset = np.array(f[\"tenperiodtable\"])\n",
    "    phase1harmonics = pd.DataFrame(dset['harmonics_i'])\n",
    "phase1_2kHz = phase1harmonics.iloc[:,0:40]"
   ]
  },
  {
   "cell_type": "code",
   "execution_count": 4,
   "metadata": {},
   "outputs": [],
   "source": [
    "with h5py.File(\"C:\\MessdatenStoeckach\\\\2017-03-02\\harmonics_phase_2_2017-03-02.h5\", \"r\") as f:\n",
    "    dset = np.array(f[\"tenperiodtable\"])\n",
    "    phase2harmonics = pd.DataFrame(dset['harmonics_i'])\n",
    "phase2_2kHz = phase2harmonics.iloc[:,0:40]"
   ]
  },
  {
   "cell_type": "code",
   "execution_count": 5,
   "metadata": {},
   "outputs": [],
   "source": [
    "with h5py.File(\"C:\\MessdatenStoeckach\\\\2017-03-02\\harmonics_phase_3_2017-03-02.h5\", \"r\") as f:\n",
    "    dset = np.array(f[\"tenperiodtable\"])\n",
    "    phase3harmonics = pd.DataFrame(dset['harmonics_i'])\n",
    "phase3_2kHz = phase3harmonics.iloc[:,0:40]"
   ]
  },
  {
   "cell_type": "code",
   "execution_count": 6,
   "metadata": {},
   "outputs": [],
   "source": [
    "allPhases = pd.concat([phase1_2kHz, phase2_2kHz, phase3_2kHz])"
   ]
  },
  {
   "cell_type": "code",
   "execution_count": 7,
   "metadata": {},
   "outputs": [
    {
     "data": {
      "text/html": [
       "<div>\n",
       "<style scoped>\n",
       "    .dataframe tbody tr th:only-of-type {\n",
       "        vertical-align: middle;\n",
       "    }\n",
       "\n",
       "    .dataframe tbody tr th {\n",
       "        vertical-align: top;\n",
       "    }\n",
       "\n",
       "    .dataframe thead th {\n",
       "        text-align: right;\n",
       "    }\n",
       "</style>\n",
       "<table border=\"1\" class=\"dataframe\">\n",
       "  <thead>\n",
       "    <tr style=\"text-align: right;\">\n",
       "      <th></th>\n",
       "      <th>0</th>\n",
       "      <th>1</th>\n",
       "      <th>2</th>\n",
       "      <th>3</th>\n",
       "      <th>4</th>\n",
       "      <th>5</th>\n",
       "      <th>6</th>\n",
       "      <th>7</th>\n",
       "      <th>8</th>\n",
       "      <th>9</th>\n",
       "      <th>...</th>\n",
       "      <th>30</th>\n",
       "      <th>31</th>\n",
       "      <th>32</th>\n",
       "      <th>33</th>\n",
       "      <th>34</th>\n",
       "      <th>35</th>\n",
       "      <th>36</th>\n",
       "      <th>37</th>\n",
       "      <th>38</th>\n",
       "      <th>39</th>\n",
       "    </tr>\n",
       "  </thead>\n",
       "  <tbody>\n",
       "    <tr>\n",
       "      <th>0</th>\n",
       "      <td>0.036987</td>\n",
       "      <td>0.759766</td>\n",
       "      <td>0.040009</td>\n",
       "      <td>0.721191</td>\n",
       "      <td>0.024002</td>\n",
       "      <td>0.085022</td>\n",
       "      <td>0.012001</td>\n",
       "      <td>0.259033</td>\n",
       "      <td>0.016006</td>\n",
       "      <td>0.391113</td>\n",
       "      <td>...</td>\n",
       "      <td>0.013000</td>\n",
       "      <td>0.054993</td>\n",
       "      <td>0.014000</td>\n",
       "      <td>0.135010</td>\n",
       "      <td>0.016998</td>\n",
       "      <td>0.048004</td>\n",
       "      <td>0.010002</td>\n",
       "      <td>0.016998</td>\n",
       "      <td>0.009003</td>\n",
       "      <td>0.104980</td>\n",
       "    </tr>\n",
       "    <tr>\n",
       "      <th>1</th>\n",
       "      <td>0.024994</td>\n",
       "      <td>0.766113</td>\n",
       "      <td>0.020004</td>\n",
       "      <td>0.711914</td>\n",
       "      <td>0.020996</td>\n",
       "      <td>0.096985</td>\n",
       "      <td>0.028000</td>\n",
       "      <td>0.256104</td>\n",
       "      <td>0.022995</td>\n",
       "      <td>0.397949</td>\n",
       "      <td>...</td>\n",
       "      <td>0.010002</td>\n",
       "      <td>0.054993</td>\n",
       "      <td>0.014000</td>\n",
       "      <td>0.150024</td>\n",
       "      <td>0.013000</td>\n",
       "      <td>0.044006</td>\n",
       "      <td>0.011002</td>\n",
       "      <td>0.018005</td>\n",
       "      <td>0.011002</td>\n",
       "      <td>0.104980</td>\n",
       "    </tr>\n",
       "    <tr>\n",
       "      <th>2</th>\n",
       "      <td>0.020004</td>\n",
       "      <td>0.764160</td>\n",
       "      <td>0.037994</td>\n",
       "      <td>0.712891</td>\n",
       "      <td>0.032990</td>\n",
       "      <td>0.091980</td>\n",
       "      <td>0.031006</td>\n",
       "      <td>0.261963</td>\n",
       "      <td>0.029999</td>\n",
       "      <td>0.399902</td>\n",
       "      <td>...</td>\n",
       "      <td>0.010002</td>\n",
       "      <td>0.065979</td>\n",
       "      <td>0.016998</td>\n",
       "      <td>0.159058</td>\n",
       "      <td>0.020996</td>\n",
       "      <td>0.035004</td>\n",
       "      <td>0.016998</td>\n",
       "      <td>0.016006</td>\n",
       "      <td>0.016998</td>\n",
       "      <td>0.101990</td>\n",
       "    </tr>\n",
       "    <tr>\n",
       "      <th>3</th>\n",
       "      <td>0.040009</td>\n",
       "      <td>0.757812</td>\n",
       "      <td>0.014999</td>\n",
       "      <td>0.711914</td>\n",
       "      <td>0.024994</td>\n",
       "      <td>0.088989</td>\n",
       "      <td>0.020004</td>\n",
       "      <td>0.244019</td>\n",
       "      <td>0.020004</td>\n",
       "      <td>0.392090</td>\n",
       "      <td>...</td>\n",
       "      <td>0.014999</td>\n",
       "      <td>0.068970</td>\n",
       "      <td>0.011002</td>\n",
       "      <td>0.150024</td>\n",
       "      <td>0.016006</td>\n",
       "      <td>0.036987</td>\n",
       "      <td>0.009003</td>\n",
       "      <td>0.029999</td>\n",
       "      <td>0.013000</td>\n",
       "      <td>0.106018</td>\n",
       "    </tr>\n",
       "    <tr>\n",
       "      <th>4</th>\n",
       "      <td>0.028000</td>\n",
       "      <td>0.765137</td>\n",
       "      <td>0.041992</td>\n",
       "      <td>0.717773</td>\n",
       "      <td>0.032013</td>\n",
       "      <td>0.078979</td>\n",
       "      <td>0.020996</td>\n",
       "      <td>0.240967</td>\n",
       "      <td>0.018005</td>\n",
       "      <td>0.383057</td>\n",
       "      <td>...</td>\n",
       "      <td>0.018005</td>\n",
       "      <td>0.058014</td>\n",
       "      <td>0.011002</td>\n",
       "      <td>0.157959</td>\n",
       "      <td>0.016006</td>\n",
       "      <td>0.039001</td>\n",
       "      <td>0.018005</td>\n",
       "      <td>0.018997</td>\n",
       "      <td>0.012001</td>\n",
       "      <td>0.101013</td>\n",
       "    </tr>\n",
       "    <tr>\n",
       "      <th>...</th>\n",
       "      <td>...</td>\n",
       "      <td>...</td>\n",
       "      <td>...</td>\n",
       "      <td>...</td>\n",
       "      <td>...</td>\n",
       "      <td>...</td>\n",
       "      <td>...</td>\n",
       "      <td>...</td>\n",
       "      <td>...</td>\n",
       "      <td>...</td>\n",
       "      <td>...</td>\n",
       "      <td>...</td>\n",
       "      <td>...</td>\n",
       "      <td>...</td>\n",
       "      <td>...</td>\n",
       "      <td>...</td>\n",
       "      <td>...</td>\n",
       "      <td>...</td>\n",
       "      <td>...</td>\n",
       "      <td>...</td>\n",
       "      <td>...</td>\n",
       "    </tr>\n",
       "    <tr>\n",
       "      <th>168057</th>\n",
       "      <td>0.008003</td>\n",
       "      <td>0.566895</td>\n",
       "      <td>0.007000</td>\n",
       "      <td>0.440918</td>\n",
       "      <td>0.006001</td>\n",
       "      <td>0.260986</td>\n",
       "      <td>0.004002</td>\n",
       "      <td>0.219971</td>\n",
       "      <td>0.006001</td>\n",
       "      <td>0.144043</td>\n",
       "      <td>...</td>\n",
       "      <td>0.001000</td>\n",
       "      <td>0.081970</td>\n",
       "      <td>0.002001</td>\n",
       "      <td>0.058990</td>\n",
       "      <td>0.005001</td>\n",
       "      <td>0.029007</td>\n",
       "      <td>0.002001</td>\n",
       "      <td>0.026993</td>\n",
       "      <td>0.002001</td>\n",
       "      <td>0.040985</td>\n",
       "    </tr>\n",
       "    <tr>\n",
       "      <th>168058</th>\n",
       "      <td>0.007000</td>\n",
       "      <td>0.570801</td>\n",
       "      <td>0.005001</td>\n",
       "      <td>0.448975</td>\n",
       "      <td>0.011002</td>\n",
       "      <td>0.269043</td>\n",
       "      <td>0.006001</td>\n",
       "      <td>0.225952</td>\n",
       "      <td>0.009003</td>\n",
       "      <td>0.147949</td>\n",
       "      <td>...</td>\n",
       "      <td>0.002001</td>\n",
       "      <td>0.080017</td>\n",
       "      <td>0.002001</td>\n",
       "      <td>0.058990</td>\n",
       "      <td>0.005001</td>\n",
       "      <td>0.029007</td>\n",
       "      <td>0.002001</td>\n",
       "      <td>0.026993</td>\n",
       "      <td>0.003000</td>\n",
       "      <td>0.040009</td>\n",
       "    </tr>\n",
       "    <tr>\n",
       "      <th>168059</th>\n",
       "      <td>0.005001</td>\n",
       "      <td>0.571777</td>\n",
       "      <td>0.005001</td>\n",
       "      <td>0.446045</td>\n",
       "      <td>0.008003</td>\n",
       "      <td>0.266113</td>\n",
       "      <td>0.005001</td>\n",
       "      <td>0.225952</td>\n",
       "      <td>0.008003</td>\n",
       "      <td>0.149048</td>\n",
       "      <td>...</td>\n",
       "      <td>0.002001</td>\n",
       "      <td>0.077026</td>\n",
       "      <td>0.001000</td>\n",
       "      <td>0.056000</td>\n",
       "      <td>0.006001</td>\n",
       "      <td>0.029007</td>\n",
       "      <td>0.002001</td>\n",
       "      <td>0.029007</td>\n",
       "      <td>0.004002</td>\n",
       "      <td>0.040009</td>\n",
       "    </tr>\n",
       "    <tr>\n",
       "      <th>168060</th>\n",
       "      <td>0.004002</td>\n",
       "      <td>0.570801</td>\n",
       "      <td>0.007000</td>\n",
       "      <td>0.446045</td>\n",
       "      <td>0.006001</td>\n",
       "      <td>0.264893</td>\n",
       "      <td>0.005001</td>\n",
       "      <td>0.229004</td>\n",
       "      <td>0.004002</td>\n",
       "      <td>0.151001</td>\n",
       "      <td>...</td>\n",
       "      <td>0.002001</td>\n",
       "      <td>0.080994</td>\n",
       "      <td>0.003000</td>\n",
       "      <td>0.061005</td>\n",
       "      <td>0.006001</td>\n",
       "      <td>0.036011</td>\n",
       "      <td>0.002001</td>\n",
       "      <td>0.028000</td>\n",
       "      <td>0.003000</td>\n",
       "      <td>0.037994</td>\n",
       "    </tr>\n",
       "    <tr>\n",
       "      <th>168061</th>\n",
       "      <td>0.003000</td>\n",
       "      <td>0.568848</td>\n",
       "      <td>0.005001</td>\n",
       "      <td>0.443115</td>\n",
       "      <td>0.006001</td>\n",
       "      <td>0.263916</td>\n",
       "      <td>0.004002</td>\n",
       "      <td>0.228027</td>\n",
       "      <td>0.004002</td>\n",
       "      <td>0.149048</td>\n",
       "      <td>...</td>\n",
       "      <td>0.003000</td>\n",
       "      <td>0.081970</td>\n",
       "      <td>0.003000</td>\n",
       "      <td>0.061005</td>\n",
       "      <td>0.007000</td>\n",
       "      <td>0.036011</td>\n",
       "      <td>0.002001</td>\n",
       "      <td>0.024994</td>\n",
       "      <td>0.002001</td>\n",
       "      <td>0.035004</td>\n",
       "    </tr>\n",
       "  </tbody>\n",
       "</table>\n",
       "<p>504186 rows × 40 columns</p>\n",
       "</div>"
      ],
      "text/plain": [
       "              0         1         2         3         4         5         6   \\\n",
       "0       0.036987  0.759766  0.040009  0.721191  0.024002  0.085022  0.012001   \n",
       "1       0.024994  0.766113  0.020004  0.711914  0.020996  0.096985  0.028000   \n",
       "2       0.020004  0.764160  0.037994  0.712891  0.032990  0.091980  0.031006   \n",
       "3       0.040009  0.757812  0.014999  0.711914  0.024994  0.088989  0.020004   \n",
       "4       0.028000  0.765137  0.041992  0.717773  0.032013  0.078979  0.020996   \n",
       "...          ...       ...       ...       ...       ...       ...       ...   \n",
       "168057  0.008003  0.566895  0.007000  0.440918  0.006001  0.260986  0.004002   \n",
       "168058  0.007000  0.570801  0.005001  0.448975  0.011002  0.269043  0.006001   \n",
       "168059  0.005001  0.571777  0.005001  0.446045  0.008003  0.266113  0.005001   \n",
       "168060  0.004002  0.570801  0.007000  0.446045  0.006001  0.264893  0.005001   \n",
       "168061  0.003000  0.568848  0.005001  0.443115  0.006001  0.263916  0.004002   \n",
       "\n",
       "              7         8         9   ...        30        31        32  \\\n",
       "0       0.259033  0.016006  0.391113  ...  0.013000  0.054993  0.014000   \n",
       "1       0.256104  0.022995  0.397949  ...  0.010002  0.054993  0.014000   \n",
       "2       0.261963  0.029999  0.399902  ...  0.010002  0.065979  0.016998   \n",
       "3       0.244019  0.020004  0.392090  ...  0.014999  0.068970  0.011002   \n",
       "4       0.240967  0.018005  0.383057  ...  0.018005  0.058014  0.011002   \n",
       "...          ...       ...       ...  ...       ...       ...       ...   \n",
       "168057  0.219971  0.006001  0.144043  ...  0.001000  0.081970  0.002001   \n",
       "168058  0.225952  0.009003  0.147949  ...  0.002001  0.080017  0.002001   \n",
       "168059  0.225952  0.008003  0.149048  ...  0.002001  0.077026  0.001000   \n",
       "168060  0.229004  0.004002  0.151001  ...  0.002001  0.080994  0.003000   \n",
       "168061  0.228027  0.004002  0.149048  ...  0.003000  0.081970  0.003000   \n",
       "\n",
       "              33        34        35        36        37        38        39  \n",
       "0       0.135010  0.016998  0.048004  0.010002  0.016998  0.009003  0.104980  \n",
       "1       0.150024  0.013000  0.044006  0.011002  0.018005  0.011002  0.104980  \n",
       "2       0.159058  0.020996  0.035004  0.016998  0.016006  0.016998  0.101990  \n",
       "3       0.150024  0.016006  0.036987  0.009003  0.029999  0.013000  0.106018  \n",
       "4       0.157959  0.016006  0.039001  0.018005  0.018997  0.012001  0.101013  \n",
       "...          ...       ...       ...       ...       ...       ...       ...  \n",
       "168057  0.058990  0.005001  0.029007  0.002001  0.026993  0.002001  0.040985  \n",
       "168058  0.058990  0.005001  0.029007  0.002001  0.026993  0.003000  0.040009  \n",
       "168059  0.056000  0.006001  0.029007  0.002001  0.029007  0.004002  0.040009  \n",
       "168060  0.061005  0.006001  0.036011  0.002001  0.028000  0.003000  0.037994  \n",
       "168061  0.061005  0.007000  0.036011  0.002001  0.024994  0.002001  0.035004  \n",
       "\n",
       "[504186 rows x 40 columns]"
      ]
     },
     "execution_count": 7,
     "metadata": {},
     "output_type": "execute_result"
    }
   ],
   "source": [
    "allPhases"
   ]
  },
  {
   "cell_type": "code",
   "execution_count": 9,
   "metadata": {},
   "outputs": [],
   "source": [
    "from sklearn.decomposition import PCA"
   ]
  },
  {
   "cell_type": "code",
   "execution_count": 10,
   "metadata": {},
   "outputs": [],
   "source": [
    "model = PCA(2)"
   ]
  },
  {
   "cell_type": "code",
   "execution_count": 11,
   "metadata": {},
   "outputs": [
    {
     "data": {
      "text/plain": [
       "PCA(copy=True, iterated_power='auto', n_components=2, random_state=None,\n",
       "    svd_solver='auto', tol=0.0, whiten=False)"
      ]
     },
     "execution_count": 11,
     "metadata": {},
     "output_type": "execute_result"
    }
   ],
   "source": [
    "model.fit(allPhases)"
   ]
  },
  {
   "cell_type": "code",
   "execution_count": 12,
   "metadata": {},
   "outputs": [],
   "source": [
    "phase1_trans = model.transform(phase1_2kHz)"
   ]
  },
  {
   "cell_type": "code",
   "execution_count": 13,
   "metadata": {},
   "outputs": [
    {
     "data": {
      "image/png": "[encoded data removed]",
      "text/plain": [
       "<Figure size 432x288 with 1 Axes>"
      ]
     },
     "metadata": {
      "needs_background": "light"
     },
     "output_type": "display_data"
    }
   ],
   "source": [
    "plt.scatter(phase1_trans[:,0], phase1_trans[:,1])\n",
    "plt.show()"
   ]
  },
  {
   "cell_type": "code",
   "execution_count": 14,
   "metadata": {},
   "outputs": [
    {
     "data": {
      "image/png": "[encoded data removed]",
      "text/plain": [
       "<Figure size 432x288 with 1 Axes>"
      ]
     },
     "metadata": {
      "needs_background": "light"
     },
     "output_type": "display_data"
    }
   ],
   "source": [
    "phase2_trans = model.transform(phase2_2kHz)\n",
    "plt.scatter(phase2_trans[:,0], phase2_trans[:,1])\n",
    "plt.show()"
   ]
  },
  {
   "cell_type": "code",
   "execution_count": 15,
   "metadata": {},
   "outputs": [],
   "source": [
    "with h5py.File(\"C:\\MessdatenStoeckach\\\\2017-03-02\\harmonics_phase_0_2017-03-02.h5\", \"r\") as f:\n",
    "    dset = np.array(f[\"tenperiodtable\"])\n",
    "    phase0harmonics = pd.DataFrame(dset['harmonics_i'])\n",
    "phase0_2kHz = phase0harmonics.iloc[:,0:40]"
   ]
  },
  {
   "cell_type": "code",
   "execution_count": 17,
   "metadata": {},
   "outputs": [
    {
     "data": {
      "image/png": "[encoded data removed]",
      "text/plain": [
       "<Figure size 432x288 with 1 Axes>"
      ]
     },
     "metadata": {
      "needs_background": "light"
     },
     "output_type": "display_data"
    }
   ],
   "source": [
    "phase0_trans = model.transform(phase0_2kHz)\n",
    "plt.scatter(phase0_trans[:,0], phase0_trans[:,1])\n",
    "plt.show()"
   ]
  },
  {
   "cell_type": "code",
   "execution_count": 20,
   "metadata": {},
   "outputs": [
    {
     "data": {
      "text/html": [
       "<div>\n",
       "<style scoped>\n",
       "    .dataframe tbody tr th:only-of-type {\n",
       "        vertical-align: middle;\n",
       "    }\n",
       "\n",
       "    .dataframe tbody tr th {\n",
       "        vertical-align: top;\n",
       "    }\n",
       "\n",
       "    .dataframe thead th {\n",
       "        text-align: right;\n",
       "    }\n",
       "</style>\n",
       "<table border=\"1\" class=\"dataframe\">\n",
       "  <thead>\n",
       "    <tr style=\"text-align: right;\">\n",
       "      <th></th>\n",
       "      <th>0</th>\n",
       "      <th>1</th>\n",
       "      <th>2</th>\n",
       "      <th>3</th>\n",
       "      <th>4</th>\n",
       "      <th>5</th>\n",
       "      <th>6</th>\n",
       "      <th>7</th>\n",
       "      <th>8</th>\n",
       "      <th>9</th>\n",
       "      <th>...</th>\n",
       "      <th>30</th>\n",
       "      <th>31</th>\n",
       "      <th>32</th>\n",
       "      <th>33</th>\n",
       "      <th>34</th>\n",
       "      <th>35</th>\n",
       "      <th>36</th>\n",
       "      <th>37</th>\n",
       "      <th>38</th>\n",
       "      <th>39</th>\n",
       "    </tr>\n",
       "  </thead>\n",
       "  <tbody>\n",
       "    <tr>\n",
       "      <th>0</th>\n",
       "      <td>0.036987</td>\n",
       "      <td>0.759766</td>\n",
       "      <td>0.040009</td>\n",
       "      <td>0.721191</td>\n",
       "      <td>0.024002</td>\n",
       "      <td>0.085022</td>\n",
       "      <td>0.012001</td>\n",
       "      <td>0.259033</td>\n",
       "      <td>0.016006</td>\n",
       "      <td>0.391113</td>\n",
       "      <td>...</td>\n",
       "      <td>0.013000</td>\n",
       "      <td>0.054993</td>\n",
       "      <td>0.014000</td>\n",
       "      <td>0.135010</td>\n",
       "      <td>0.016998</td>\n",
       "      <td>0.048004</td>\n",
       "      <td>0.010002</td>\n",
       "      <td>0.016998</td>\n",
       "      <td>0.009003</td>\n",
       "      <td>0.104980</td>\n",
       "    </tr>\n",
       "    <tr>\n",
       "      <th>1</th>\n",
       "      <td>0.024994</td>\n",
       "      <td>0.766113</td>\n",
       "      <td>0.020004</td>\n",
       "      <td>0.711914</td>\n",
       "      <td>0.020996</td>\n",
       "      <td>0.096985</td>\n",
       "      <td>0.028000</td>\n",
       "      <td>0.256104</td>\n",
       "      <td>0.022995</td>\n",
       "      <td>0.397949</td>\n",
       "      <td>...</td>\n",
       "      <td>0.010002</td>\n",
       "      <td>0.054993</td>\n",
       "      <td>0.014000</td>\n",
       "      <td>0.150024</td>\n",
       "      <td>0.013000</td>\n",
       "      <td>0.044006</td>\n",
       "      <td>0.011002</td>\n",
       "      <td>0.018005</td>\n",
       "      <td>0.011002</td>\n",
       "      <td>0.104980</td>\n",
       "    </tr>\n",
       "    <tr>\n",
       "      <th>2</th>\n",
       "      <td>0.020004</td>\n",
       "      <td>0.764160</td>\n",
       "      <td>0.037994</td>\n",
       "      <td>0.712891</td>\n",
       "      <td>0.032990</td>\n",
       "      <td>0.091980</td>\n",
       "      <td>0.031006</td>\n",
       "      <td>0.261963</td>\n",
       "      <td>0.029999</td>\n",
       "      <td>0.399902</td>\n",
       "      <td>...</td>\n",
       "      <td>0.010002</td>\n",
       "      <td>0.065979</td>\n",
       "      <td>0.016998</td>\n",
       "      <td>0.159058</td>\n",
       "      <td>0.020996</td>\n",
       "      <td>0.035004</td>\n",
       "      <td>0.016998</td>\n",
       "      <td>0.016006</td>\n",
       "      <td>0.016998</td>\n",
       "      <td>0.101990</td>\n",
       "    </tr>\n",
       "    <tr>\n",
       "      <th>3</th>\n",
       "      <td>0.040009</td>\n",
       "      <td>0.757812</td>\n",
       "      <td>0.014999</td>\n",
       "      <td>0.711914</td>\n",
       "      <td>0.024994</td>\n",
       "      <td>0.088989</td>\n",
       "      <td>0.020004</td>\n",
       "      <td>0.244019</td>\n",
       "      <td>0.020004</td>\n",
       "      <td>0.392090</td>\n",
       "      <td>...</td>\n",
       "      <td>0.014999</td>\n",
       "      <td>0.068970</td>\n",
       "      <td>0.011002</td>\n",
       "      <td>0.150024</td>\n",
       "      <td>0.016006</td>\n",
       "      <td>0.036987</td>\n",
       "      <td>0.009003</td>\n",
       "      <td>0.029999</td>\n",
       "      <td>0.013000</td>\n",
       "      <td>0.106018</td>\n",
       "    </tr>\n",
       "    <tr>\n",
       "      <th>4</th>\n",
       "      <td>0.028000</td>\n",
       "      <td>0.765137</td>\n",
       "      <td>0.041992</td>\n",
       "      <td>0.717773</td>\n",
       "      <td>0.032013</td>\n",
       "      <td>0.078979</td>\n",
       "      <td>0.020996</td>\n",
       "      <td>0.240967</td>\n",
       "      <td>0.018005</td>\n",
       "      <td>0.383057</td>\n",
       "      <td>...</td>\n",
       "      <td>0.018005</td>\n",
       "      <td>0.058014</td>\n",
       "      <td>0.011002</td>\n",
       "      <td>0.157959</td>\n",
       "      <td>0.016006</td>\n",
       "      <td>0.039001</td>\n",
       "      <td>0.018005</td>\n",
       "      <td>0.018997</td>\n",
       "      <td>0.012001</td>\n",
       "      <td>0.101013</td>\n",
       "    </tr>\n",
       "    <tr>\n",
       "      <th>...</th>\n",
       "      <td>...</td>\n",
       "      <td>...</td>\n",
       "      <td>...</td>\n",
       "      <td>...</td>\n",
       "      <td>...</td>\n",
       "      <td>...</td>\n",
       "      <td>...</td>\n",
       "      <td>...</td>\n",
       "      <td>...</td>\n",
       "      <td>...</td>\n",
       "      <td>...</td>\n",
       "      <td>...</td>\n",
       "      <td>...</td>\n",
       "      <td>...</td>\n",
       "      <td>...</td>\n",
       "      <td>...</td>\n",
       "      <td>...</td>\n",
       "      <td>...</td>\n",
       "      <td>...</td>\n",
       "      <td>...</td>\n",
       "      <td>...</td>\n",
       "    </tr>\n",
       "    <tr>\n",
       "      <th>168057</th>\n",
       "      <td>0.016998</td>\n",
       "      <td>1.684570</td>\n",
       "      <td>0.018005</td>\n",
       "      <td>0.171997</td>\n",
       "      <td>0.020004</td>\n",
       "      <td>0.070007</td>\n",
       "      <td>0.009003</td>\n",
       "      <td>0.638184</td>\n",
       "      <td>0.014000</td>\n",
       "      <td>0.068970</td>\n",
       "      <td>...</td>\n",
       "      <td>0.003000</td>\n",
       "      <td>0.244019</td>\n",
       "      <td>0.004002</td>\n",
       "      <td>0.020004</td>\n",
       "      <td>0.018005</td>\n",
       "      <td>0.032990</td>\n",
       "      <td>0.004002</td>\n",
       "      <td>0.086975</td>\n",
       "      <td>0.004002</td>\n",
       "      <td>0.016998</td>\n",
       "    </tr>\n",
       "    <tr>\n",
       "      <th>168058</th>\n",
       "      <td>0.013000</td>\n",
       "      <td>1.694336</td>\n",
       "      <td>0.016998</td>\n",
       "      <td>0.175049</td>\n",
       "      <td>0.022995</td>\n",
       "      <td>0.072998</td>\n",
       "      <td>0.008003</td>\n",
       "      <td>0.646973</td>\n",
       "      <td>0.014000</td>\n",
       "      <td>0.065979</td>\n",
       "      <td>...</td>\n",
       "      <td>0.003000</td>\n",
       "      <td>0.237061</td>\n",
       "      <td>0.004002</td>\n",
       "      <td>0.022003</td>\n",
       "      <td>0.016998</td>\n",
       "      <td>0.037994</td>\n",
       "      <td>0.003000</td>\n",
       "      <td>0.091003</td>\n",
       "      <td>0.003000</td>\n",
       "      <td>0.014000</td>\n",
       "    </tr>\n",
       "    <tr>\n",
       "      <th>168059</th>\n",
       "      <td>0.018997</td>\n",
       "      <td>1.698242</td>\n",
       "      <td>0.020996</td>\n",
       "      <td>0.171021</td>\n",
       "      <td>0.022003</td>\n",
       "      <td>0.070984</td>\n",
       "      <td>0.011002</td>\n",
       "      <td>0.657227</td>\n",
       "      <td>0.016998</td>\n",
       "      <td>0.067993</td>\n",
       "      <td>...</td>\n",
       "      <td>0.005001</td>\n",
       "      <td>0.229980</td>\n",
       "      <td>0.005001</td>\n",
       "      <td>0.022995</td>\n",
       "      <td>0.016998</td>\n",
       "      <td>0.037994</td>\n",
       "      <td>0.002001</td>\n",
       "      <td>0.093994</td>\n",
       "      <td>0.006001</td>\n",
       "      <td>0.012001</td>\n",
       "    </tr>\n",
       "    <tr>\n",
       "      <th>168060</th>\n",
       "      <td>0.014000</td>\n",
       "      <td>1.699219</td>\n",
       "      <td>0.016006</td>\n",
       "      <td>0.172974</td>\n",
       "      <td>0.020004</td>\n",
       "      <td>0.070007</td>\n",
       "      <td>0.012001</td>\n",
       "      <td>0.664062</td>\n",
       "      <td>0.014000</td>\n",
       "      <td>0.068970</td>\n",
       "      <td>...</td>\n",
       "      <td>0.002001</td>\n",
       "      <td>0.241943</td>\n",
       "      <td>0.003000</td>\n",
       "      <td>0.024002</td>\n",
       "      <td>0.018005</td>\n",
       "      <td>0.037994</td>\n",
       "      <td>0.003000</td>\n",
       "      <td>0.088013</td>\n",
       "      <td>0.004002</td>\n",
       "      <td>0.013000</td>\n",
       "    </tr>\n",
       "    <tr>\n",
       "      <th>168061</th>\n",
       "      <td>0.018005</td>\n",
       "      <td>1.693359</td>\n",
       "      <td>0.018997</td>\n",
       "      <td>0.168945</td>\n",
       "      <td>0.022003</td>\n",
       "      <td>0.067993</td>\n",
       "      <td>0.012001</td>\n",
       "      <td>0.659180</td>\n",
       "      <td>0.014999</td>\n",
       "      <td>0.064026</td>\n",
       "      <td>...</td>\n",
       "      <td>0.003000</td>\n",
       "      <td>0.244019</td>\n",
       "      <td>0.005001</td>\n",
       "      <td>0.026001</td>\n",
       "      <td>0.018005</td>\n",
       "      <td>0.039001</td>\n",
       "      <td>0.004002</td>\n",
       "      <td>0.081970</td>\n",
       "      <td>0.003000</td>\n",
       "      <td>0.013000</td>\n",
       "    </tr>\n",
       "  </tbody>\n",
       "</table>\n",
       "<p>672248 rows × 40 columns</p>\n",
       "</div>"
      ],
      "text/plain": [
       "              0         1         2         3         4         5         6   \\\n",
       "0       0.036987  0.759766  0.040009  0.721191  0.024002  0.085022  0.012001   \n",
       "1       0.024994  0.766113  0.020004  0.711914  0.020996  0.096985  0.028000   \n",
       "2       0.020004  0.764160  0.037994  0.712891  0.032990  0.091980  0.031006   \n",
       "3       0.040009  0.757812  0.014999  0.711914  0.024994  0.088989  0.020004   \n",
       "4       0.028000  0.765137  0.041992  0.717773  0.032013  0.078979  0.020996   \n",
       "...          ...       ...       ...       ...       ...       ...       ...   \n",
       "168057  0.016998  1.684570  0.018005  0.171997  0.020004  0.070007  0.009003   \n",
       "168058  0.013000  1.694336  0.016998  0.175049  0.022995  0.072998  0.008003   \n",
       "168059  0.018997  1.698242  0.020996  0.171021  0.022003  0.070984  0.011002   \n",
       "168060  0.014000  1.699219  0.016006  0.172974  0.020004  0.070007  0.012001   \n",
       "168061  0.018005  1.693359  0.018997  0.168945  0.022003  0.067993  0.012001   \n",
       "\n",
       "              7         8         9   ...        30        31        32  \\\n",
       "0       0.259033  0.016006  0.391113  ...  0.013000  0.054993  0.014000   \n",
       "1       0.256104  0.022995  0.397949  ...  0.010002  0.054993  0.014000   \n",
       "2       0.261963  0.029999  0.399902  ...  0.010002  0.065979  0.016998   \n",
       "3       0.244019  0.020004  0.392090  ...  0.014999  0.068970  0.011002   \n",
       "4       0.240967  0.018005  0.383057  ...  0.018005  0.058014  0.011002   \n",
       "...          ...       ...       ...  ...       ...       ...       ...   \n",
       "168057  0.638184  0.014000  0.068970  ...  0.003000  0.244019  0.004002   \n",
       "168058  0.646973  0.014000  0.065979  ...  0.003000  0.237061  0.004002   \n",
       "168059  0.657227  0.016998  0.067993  ...  0.005001  0.229980  0.005001   \n",
       "168060  0.664062  0.014000  0.068970  ...  0.002001  0.241943  0.003000   \n",
       "168061  0.659180  0.014999  0.064026  ...  0.003000  0.244019  0.005001   \n",
       "\n",
       "              33        34        35        36        37        38        39  \n",
       "0       0.135010  0.016998  0.048004  0.010002  0.016998  0.009003  0.104980  \n",
       "1       0.150024  0.013000  0.044006  0.011002  0.018005  0.011002  0.104980  \n",
       "2       0.159058  0.020996  0.035004  0.016998  0.016006  0.016998  0.101990  \n",
       "3       0.150024  0.016006  0.036987  0.009003  0.029999  0.013000  0.106018  \n",
       "4       0.157959  0.016006  0.039001  0.018005  0.018997  0.012001  0.101013  \n",
       "...          ...       ...       ...       ...       ...       ...       ...  \n",
       "168057  0.020004  0.018005  0.032990  0.004002  0.086975  0.004002  0.016998  \n",
       "168058  0.022003  0.016998  0.037994  0.003000  0.091003  0.003000  0.014000  \n",
       "168059  0.022995  0.016998  0.037994  0.002001  0.093994  0.006001  0.012001  \n",
       "168060  0.024002  0.018005  0.037994  0.003000  0.088013  0.004002  0.013000  \n",
       "168061  0.026001  0.018005  0.039001  0.004002  0.081970  0.003000  0.013000  \n",
       "\n",
       "[672248 rows x 40 columns]"
      ]
     },
     "execution_count": 20,
     "metadata": {},
     "output_type": "execute_result"
    }
   ],
   "source": [
    "allPhases.append([phase0_2kHz])"
   ]
  },
  {
   "cell_type": "code",
   "execution_count": 21,
   "metadata": {},
   "outputs": [
    {
     "data": {
      "image/png": "[encoded data removed]",
      "text/plain": [
       "<Figure size 432x288 with 1 Axes>"
      ]
     },
     "metadata": {
      "needs_background": "light"
     },
     "output_type": "display_data"
    }
   ],
   "source": [
    "model.fit(allPhases)\n",
    "phase0_trans = model.transform(phase0_2kHz)\n",
    "plt.scatter(phase0_trans[:,0], phase0_trans[:,1])\n",
    "plt.show()"
   ]
  },
  {
   "cell_type": "code",
   "execution_count": 22,
   "metadata": {},
   "outputs": [],
   "source": [
    "allPhases_trans = model.transform(allPhases)"
   ]
  },
  {
   "cell_type": "code",
   "execution_count": 23,
   "metadata": {},
   "outputs": [
    {
     "data": {
      "image/png": "[encoded data removed]",
      "text/plain": [
       "<Figure size 432x288 with 1 Axes>"
      ]
     },
     "metadata": {
      "needs_background": "light"
     },
     "output_type": "display_data"
    }
   ],
   "source": [
    "plt.scatter(allPhases_trans[:,0], allPhases_trans[:,1])\n",
    "plt.show()"
   ]
  },
  {
   "cell_type": "code",
   "execution_count": 29,
   "metadata": {},
   "outputs": [
    {
     "data": {
      "text/plain": [
       "(504186, 40)"
      ]
     },
     "execution_count": 29,
     "metadata": {},
     "output_type": "execute_result"
    }
   ],
   "source": [
    "allPhases.shape"
   ]
  },
  {
   "cell_type": "code",
   "execution_count": 31,
   "metadata": {},
   "outputs": [
    {
     "data": {
      "text/plain": [
       "(168062, 40)"
      ]
     },
     "execution_count": 31,
     "metadata": {},
     "output_type": "execute_result"
    }
   ],
   "source": [
    "phase0_2kHz.shape"
   ]
  },
  {
   "cell_type": "code",
   "execution_count": 32,
   "metadata": {},
   "outputs": [
    {
     "data": {
      "text/plain": [
       "(168062, 40)"
      ]
     },
     "execution_count": 32,
     "metadata": {},
     "output_type": "execute_result"
    }
   ],
   "source": [
    "phase1_2kHz.shape"
   ]
  },
  {
   "cell_type": "code",
   "execution_count": 33,
   "metadata": {},
   "outputs": [
    {
     "data": {
      "text/plain": [
       "(168062, 40)"
      ]
     },
     "execution_count": 33,
     "metadata": {},
     "output_type": "execute_result"
    }
   ],
   "source": [
    "phase2_2kHz.shape"
   ]
  },
  {
   "cell_type": "code",
   "execution_count": 34,
   "metadata": {},
   "outputs": [
    {
     "data": {
      "text/plain": [
       "(168062, 40)"
      ]
     },
     "execution_count": 34,
     "metadata": {},
     "output_type": "execute_result"
    }
   ],
   "source": [
    "phase3_2kHz.shape"
   ]
  },
  {
   "cell_type": "code",
   "execution_count": 35,
   "metadata": {},
   "outputs": [
    {
     "data": {
      "text/plain": [
       "672248"
      ]
     },
     "execution_count": 35,
     "metadata": {},
     "output_type": "execute_result"
    }
   ],
   "source": [
    "168062 * 4"
   ]
  },
  {
   "cell_type": "code",
   "execution_count": 36,
   "metadata": {},
   "outputs": [],
   "source": [
    "allPhases = pd.concat([phase1_2kHz, phase2_2kHz, phase3_2kHz, phase0_2kHz])"
   ]
  },
  {
   "cell_type": "code",
   "execution_count": 37,
   "metadata": {},
   "outputs": [
    {
     "data": {
      "text/plain": [
       "(672248, 40)"
      ]
     },
     "execution_count": 37,
     "metadata": {},
     "output_type": "execute_result"
    }
   ],
   "source": [
    "allPhases.shape"
   ]
  },
  {
   "cell_type": "code",
   "execution_count": 38,
   "metadata": {},
   "outputs": [],
   "source": [
    "allPhases_trans = model.transform(allPhases)"
   ]
  },
  {
   "cell_type": "code",
   "execution_count": 39,
   "metadata": {},
   "outputs": [
    {
     "data": {
      "image/png": "[encoded data removed]",
      "text/plain": [
       "<Figure size 432x288 with 1 Axes>"
      ]
     },
     "metadata": {
      "needs_background": "light"
     },
     "output_type": "display_data"
    }
   ],
   "source": [
    "plt.scatter(allPhases_trans[:,0], allPhases_trans[:,1])\n",
    "plt.show()"
   ]
  },
  {
   "cell_type": "code",
   "execution_count": 40,
   "metadata": {},
   "outputs": [],
   "source": [
    "allPhases_trans = model.fit_transform(allPhases)"
   ]
  },
  {
   "cell_type": "code",
   "execution_count": 41,
   "metadata": {},
   "outputs": [
    {
     "data": {
      "image/png": "[encoded data removed]",
      "text/plain": [
       "<Figure size 432x288 with 1 Axes>"
      ]
     },
     "metadata": {
      "needs_background": "light"
     },
     "output_type": "display_data"
    }
   ],
   "source": [
    "plt.scatter(allPhases_trans[:,0], allPhases_trans[:,1])\n",
    "plt.show()"
   ]
  },
  {
   "cell_type": "code",
   "execution_count": 43,
   "metadata": {},
   "outputs": [
    {
     "data": {
      "text/plain": [
       "<matplotlib.collections.PathCollection at 0x2ae9e3b1b48>"
      ]
     },
     "execution_count": 43,
     "metadata": {},
     "output_type": "execute_result"
    },
    {
     "data": {
      "image/png": "[encoded data removed]",
      "text/plain": [
       "<Figure size 432x288 with 1 Axes>"
      ]
     },
     "metadata": {
      "needs_background": "light"
     },
     "output_type": "display_data"
    }
   ],
   "source": [
    "plt.scatter([phase0_trans[:,0], phase1_trans[:,0]], [phase0_trans[:,1], phase1_trans[:,1]])"
   ]
  },
  {
   "cell_type": "code",
   "execution_count": 44,
   "metadata": {},
   "outputs": [
    {
     "data": {
      "text/plain": [
       "PCA(copy=True, iterated_power='auto', n_components=2, random_state=None,\n",
       "    svd_solver='auto', tol=0.0, whiten=False)"
      ]
     },
     "execution_count": 44,
     "metadata": {},
     "output_type": "execute_result"
    }
   ],
   "source": [
    "model.fit(allPhases)"
   ]
  },
  {
   "cell_type": "code",
   "execution_count": 45,
   "metadata": {},
   "outputs": [],
   "source": [
    "phase0_trans = model.transform(phase0_2kHz)\n",
    "phase1_trans = model.transform(phase1_2kHz)\n",
    "phase2_trans = model.transform(phase2_2kHz)\n",
    "phase3_trans = model.transform(phase3_2kHz)"
   ]
  },
  {
   "cell_type": "code",
   "execution_count": 50,
   "metadata": {
    "scrolled": true
   },
   "outputs": [
    {
     "data": {
      "image/png": "[encoded data removed]",
      "text/plain": [
       "<Figure size 432x288 with 1 Axes>"
      ]
     },
     "metadata": {
      "needs_background": "light"
     },
     "output_type": "display_data"
    }
   ],
   "source": [
    "plt.scatter(phase0_trans[:,0], phase0_trans[:,1], color='blue', label='phase0')\n",
    "plt.scatter(phase1_trans[:,0], phase1_trans[:,1], color='orange', label='phase1')\n",
    "plt.scatter(phase2_trans[:,0], phase2_trans[:,1], color='green', label='phase2')\n",
    "plt.scatter(phase3_trans[:,0], phase3_trans[:,1], color='red', label='phase3')\n",
    "plt.legend()\n",
    "plt.show()"
   ]
  },
  {
   "cell_type": "code",
   "execution_count": 51,
   "metadata": {},
   "outputs": [],
   "source": [
    "from sklearn.preprocessing import StandardScaler"
   ]
  },
  {
   "cell_type": "code",
   "execution_count": 52,
   "metadata": {},
   "outputs": [
    {
     "data": {
      "image/png": "[encoded data removed]",
      "text/plain": [
       "<Figure size 432x288 with 1 Axes>"
      ]
     },
     "metadata": {
      "needs_background": "light"
     },
     "output_type": "display_data"
    }
   ],
   "source": [
    "scaler = StandardScaler()\n",
    "scaler.fit(allPhases)\n",
    "scaler.transform(allPhases)\n",
    "model.fit(allPhases)\n",
    "phase0_trans = model.transform(phase0_2kHz)\n",
    "phase1_trans = model.transform(phase1_2kHz)\n",
    "phase2_trans = model.transform(phase2_2kHz)\n",
    "phase3_trans = model.transform(phase3_2kHz)\n",
    "plt.scatter(phase0_trans[:,0], phase0_trans[:,1], color='blue', label='phase0')\n",
    "plt.scatter(phase1_trans[:,0], phase1_trans[:,1], color='orange', label='phase1')\n",
    "plt.scatter(phase2_trans[:,0], phase2_trans[:,1], color='green', label='phase2')\n",
    "plt.scatter(phase3_trans[:,0], phase3_trans[:,1], color='red', label='phase3')\n",
    "plt.legend()\n",
    "plt.show()"
   ]
  },
  {
   "cell_type": "code",
   "execution_count": 53,
   "metadata": {},
   "outputs": [
    {
     "data": {
      "image/png": "[encoded data removed]",
      "text/plain": [
       "<Figure size 432x288 with 1 Axes>"
      ]
     },
     "metadata": {
      "needs_background": "light"
     },
     "output_type": "display_data"
    }
   ],
   "source": [
    "plt.scatter(phase0_trans[:,0], phase0_trans[:,1], color='blue', label='phase0')\n",
    "plt.legend()\n",
    "plt.show()"
   ]
  },
  {
   "cell_type": "code",
   "execution_count": null,
   "metadata": {},
   "outputs": [],
   "source": []
  }
 ],
 "metadata": {
  "kernelspec": {
   "display_name": "Python 3",
   "language": "python",
   "name": "python3"
  },
  "language_info": {
   "codemirror_mode": {
    "name": "ipython",
    "version": 3
   },
   "file_extension": ".py",
   "mimetype": "text/x-python",
   "name": "python",
   "nbconvert_exporter": "python",
   "pygments_lexer": "ipython3",
   "version": "3.7.7"
  }
 },
 "nbformat": 4,
 "nbformat_minor": 4
}
