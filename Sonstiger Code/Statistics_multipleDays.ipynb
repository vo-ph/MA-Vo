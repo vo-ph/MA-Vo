{
 "cells": [
  {
   "cell_type": "code",
   "execution_count": 1,
   "metadata": {},
   "outputs": [],
   "source": [
    "import pandas as pd\n",
    "import h5py\n",
    "import numpy as np\n",
    "import matplotlib.pyplot as plt\n",
    "import h5py\n",
    "import os"
   ]
  },
  {
   "cell_type": "code",
   "execution_count": 2,
   "metadata": {},
   "outputs": [],
   "source": [
    "def generateXAxisData():\n",
    "    return np.linspace(2000, 149950, 2960)"
   ]
  },
  {
   "cell_type": "code",
   "execution_count": 3,
   "metadata": {},
   "outputs": [],
   "source": [
    "from pylab import rcParams\n",
    "import numpy as np\n",
    "\n",
    "rcParams['figure.figsize'] =10,5\n",
    "font = {'family' : 'Times New Roman','weight' : \"light\", 'size'   : 14}\n",
    "plt.rc('font', **font)"
   ]
  },
  {
   "cell_type": "code",
   "execution_count": 4,
   "metadata": {},
   "outputs": [],
   "source": [
    "# constants  #\n",
    "#------------#\n",
    "HDF5_dir =\"C:\\MessdatenStoeckach\\\\\"\n",
    "dates = os.listdir(HDF5_dir)\n",
    "phases = [\"0\",\"1\",\"2\",\"3\"]"
   ]
  },
  {
   "cell_type": "code",
   "execution_count": 5,
   "metadata": {},
   "outputs": [],
   "source": [
    "lengths = np.empty([0])\n",
    "dayly_means = np.empty([0,2960])"
   ]
  },
  {
   "cell_type": "code",
   "execution_count": null,
   "metadata": {},
   "outputs": [],
   "source": []
  },
  {
   "cell_type": "code",
   "execution_count": 6,
   "metadata": {},
   "outputs": [
    {
     "name": "stdout",
     "output_type": "stream",
     "text": [
      "2017-04-01\n",
      "0\n",
      "1\n",
      "2\n",
      "3\n",
      "2017-04-02\n",
      "0\n",
      "1\n",
      "2\n",
      "3\n",
      "2017-04-03\n",
      "0\n",
      "1\n",
      "2\n",
      "3\n",
      "2017-04-04\n",
      "0\n",
      "1\n",
      "2\n",
      "3\n",
      "2017-04-05\n",
      "0\n",
      "1\n",
      "2\n",
      "3\n",
      "2017-04-06\n",
      "0\n",
      "1\n",
      "2\n",
      "3\n",
      "2017-04-07\n",
      "0\n",
      "1\n",
      "2\n",
      "3\n",
      "2017-04-08\n",
      "0\n",
      "1\n",
      "2\n",
      "3\n",
      "2017-04-09\n",
      "0\n",
      "1\n",
      "2\n",
      "3\n",
      "2017-04-10\n",
      "0\n",
      "1\n",
      "2\n",
      "3\n",
      "2017-04-11\n",
      "0\n",
      "1\n",
      "2\n",
      "3\n",
      "2017-04-12\n",
      "0\n",
      "1\n",
      "2\n",
      "3\n",
      "2017-04-13\n",
      "0\n",
      "1\n",
      "2\n",
      "3\n",
      "2017-04-14\n",
      "0\n",
      "1\n",
      "2\n",
      "3\n",
      "2017-04-15\n",
      "0\n",
      "1\n",
      "2\n",
      "3\n",
      "2017-04-16\n",
      "0\n",
      "1\n",
      "2\n",
      "3\n",
      "2017-04-17\n",
      "0\n",
      "1\n",
      "2\n",
      "3\n",
      "2017-04-18\n",
      "0\n",
      "1\n",
      "2\n",
      "3\n",
      "2017-04-19\n",
      "0\n",
      "1\n",
      "2\n",
      "3\n",
      "2017-04-20\n",
      "0\n",
      "1\n",
      "2\n",
      "3\n",
      "2017-04-21\n",
      "0\n",
      "1\n",
      "2\n",
      "3\n",
      "2017-04-22\n",
      "0\n",
      "1\n",
      "2\n",
      "3\n",
      "2017-04-23\n",
      "0\n",
      "1\n",
      "2\n",
      "3\n",
      "2017-04-24\n",
      "0\n",
      "1\n",
      "2\n",
      "3\n",
      "2017-04-25\n",
      "0\n",
      "1\n",
      "2\n",
      "3\n",
      "2017-04-26\n",
      "0\n",
      "1\n",
      "2\n",
      "3\n",
      "2017-04-27\n",
      "0\n",
      "1\n",
      "2\n",
      "3\n",
      "2017-04-28\n",
      "0\n",
      "1\n",
      "2\n",
      "3\n",
      "2017-04-29\n",
      "0\n",
      "1\n",
      "2\n",
      "3\n",
      "2017-04-30\n",
      "0\n",
      "1\n",
      "2\n",
      "3\n",
      "Wall time: 2h 57min 58s\n"
     ]
    }
   ],
   "source": [
    "%%time\n",
    "for date in dates:\n",
    "    print(date)\n",
    "    means = np.empty([0,2960])\n",
    "    for phase in phases:\n",
    "        print(phase)\n",
    "        with h5py.File(HDF5_dir + date + \"\\\\\" + \"harmonics_phase_\" + phase + \"_\" + date + \".h5\", 'r') as f:\n",
    "            sh = np.array(f[\"tenperiodtable\"][\"harmonics_u\"][:,38:], dtype=np.float32)*230\n",
    "        sh[sh<1e-4] = 1e-4\n",
    "        sh = 20*np.log10(sh/1e-6)\n",
    "        means = np.vstack([means, sh.mean(axis=0)])\n",
    "        length = sh.shape[0]\n",
    "        del sh\n",
    "    lengths = np.append(lengths, length)\n",
    "    dayly_means = np.vstack([dayly_means, means.mean(axis=0)])\n",
    "overall_mean = np.average(dayly_means, axis=0, weights=lengths)"
   ]
  },
  {
   "cell_type": "code",
   "execution_count": 7,
   "metadata": {},
   "outputs": [
    {
     "data": {
      "text/plain": [
       "array([125.42963326, 143.11342224, 127.76456126, ...,  78.65469587,\n",
       "        78.65431808,  78.65392587])"
      ]
     },
     "execution_count": 7,
     "metadata": {},
     "output_type": "execute_result"
    }
   ],
   "source": [
    "overall_mean"
   ]
  },
  {
   "cell_type": "code",
   "execution_count": 8,
   "metadata": {},
   "outputs": [
    {
     "data": {
      "text/plain": [
       "<matplotlib.legend.Legend at 0x1e297a40b48>"
      ]
     },
     "execution_count": 8,
     "metadata": {},
     "output_type": "execute_result"
    },
    {
     "data": {
      "image/png": "[encoded data removed]",
      "text/plain": [
       "<Figure size 720x360 with 1 Axes>"
      ]
     },
     "metadata": {
      "needs_background": "light"
     },
     "output_type": "display_data"
    }
   ],
   "source": [
    "x = generateXAxisData()/1000\n",
    "y = overall_mean\n",
    "fig, ax = plt.subplots()\n",
    "ax.plot(x, y, label =\"mean 2017-04\")\n",
    "ax.set_xlim(min(x), max(x))\n",
    "ax.minorticks_on()\n",
    "ax.grid(linewidth=0.3, which='both')\n",
    "ax.set_xlabel(\"Frequency [kHz]\")\n",
    "ax.set_ylabel('Voltage in dBµV')\n",
    "ax.set_xscale('log')\n",
    "ax.legend()"
   ]
  },
  {
   "cell_type": "code",
   "execution_count": 34,
   "metadata": {},
   "outputs": [],
   "source": [
    "xytrans = x_y.transpose()"
   ]
  },
  {
   "cell_type": "code",
   "execution_count": 36,
   "metadata": {},
   "outputs": [
    {
     "data": {
      "text/plain": [
       "(2960, 2)"
      ]
     },
     "execution_count": 36,
     "metadata": {},
     "output_type": "execute_result"
    }
   ],
   "source": [
    "xytrans.shape"
   ]
  },
  {
   "cell_type": "code",
   "execution_count": 38,
   "metadata": {},
   "outputs": [],
   "source": [
    "df = pd.DataFrame(xytrans)"
   ]
  },
  {
   "cell_type": "code",
   "execution_count": 45,
   "metadata": {},
   "outputs": [],
   "source": [
    "df.to_excel(\"C:\\\\MDS_alle\\\\overall_mean_excel.xlsx\")"
   ]
  },
  {
   "cell_type": "code",
   "execution_count": 47,
   "metadata": {},
   "outputs": [
    {
     "data": {
      "text/html": [
       "<div>\n",
       "<style scoped>\n",
       "    .dataframe tbody tr th:only-of-type {\n",
       "        vertical-align: middle;\n",
       "    }\n",
       "\n",
       "    .dataframe tbody tr th {\n",
       "        vertical-align: top;\n",
       "    }\n",
       "\n",
       "    .dataframe thead th {\n",
       "        text-align: right;\n",
       "    }\n",
       "</style>\n",
       "<table border=\"1\" class=\"dataframe\">\n",
       "  <thead>\n",
       "    <tr style=\"text-align: right;\">\n",
       "      <th></th>\n",
       "      <th>0</th>\n",
       "      <th>1</th>\n",
       "    </tr>\n",
       "  </thead>\n",
       "  <tbody>\n",
       "    <tr>\n",
       "      <th>0</th>\n",
       "      <td>125.429633</td>\n",
       "      <td>2000</td>\n",
       "    </tr>\n",
       "    <tr>\n",
       "      <th>1</th>\n",
       "      <td>143.113422</td>\n",
       "      <td>2050</td>\n",
       "    </tr>\n",
       "    <tr>\n",
       "      <th>2</th>\n",
       "      <td>127.764561</td>\n",
       "      <td>2100</td>\n",
       "    </tr>\n",
       "    <tr>\n",
       "      <th>3</th>\n",
       "      <td>138.711064</td>\n",
       "      <td>2150</td>\n",
       "    </tr>\n",
       "    <tr>\n",
       "      <th>4</th>\n",
       "      <td>126.112003</td>\n",
       "      <td>2200</td>\n",
       "    </tr>\n",
       "    <tr>\n",
       "      <th>...</th>\n",
       "      <td>...</td>\n",
       "      <td>...</td>\n",
       "    </tr>\n",
       "    <tr>\n",
       "      <th>2955</th>\n",
       "      <td>78.655645</td>\n",
       "      <td>149750</td>\n",
       "    </tr>\n",
       "    <tr>\n",
       "      <th>2956</th>\n",
       "      <td>78.655050</td>\n",
       "      <td>149800</td>\n",
       "    </tr>\n",
       "    <tr>\n",
       "      <th>2957</th>\n",
       "      <td>78.654696</td>\n",
       "      <td>149850</td>\n",
       "    </tr>\n",
       "    <tr>\n",
       "      <th>2958</th>\n",
       "      <td>78.654318</td>\n",
       "      <td>149900</td>\n",
       "    </tr>\n",
       "    <tr>\n",
       "      <th>2959</th>\n",
       "      <td>78.653926</td>\n",
       "      <td>149950</td>\n",
       "    </tr>\n",
       "  </tbody>\n",
       "</table>\n",
       "<p>2960 rows × 2 columns</p>\n",
       "</div>"
      ],
      "text/plain": [
       "               0       1\n",
       "0     125.429633    2000\n",
       "1     143.113422    2050\n",
       "2     127.764561    2100\n",
       "3     138.711064    2150\n",
       "4     126.112003    2200\n",
       "...          ...     ...\n",
       "2955   78.655645  149750\n",
       "2956   78.655050  149800\n",
       "2957   78.654696  149850\n",
       "2958   78.654318  149900\n",
       "2959   78.653926  149950\n",
       "\n",
       "[2960 rows x 2 columns]"
      ]
     },
     "execution_count": 47,
     "metadata": {},
     "output_type": "execute_result"
    }
   ],
   "source": [
    "pd.read_excel('C:\\\\MDS_alle\\\\overall_mean_excel.xlsx', index_col=0) "
   ]
  }
 ],
 "metadata": {
  "kernelspec": {
   "display_name": "Python 3",
   "language": "python",
   "name": "python3"
  },
  "language_info": {
   "codemirror_mode": {
    "name": "ipython",
    "version": 3
   },
   "file_extension": ".py",
   "mimetype": "text/x-python",
   "name": "python",
   "nbconvert_exporter": "python",
   "pygments_lexer": "ipython3",
   "version": "3.7.7"
  }
 },
 "nbformat": 4,
 "nbformat_minor": 4
}
