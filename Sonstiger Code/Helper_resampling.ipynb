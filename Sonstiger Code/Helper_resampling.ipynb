{
 "cells": [
  {
   "cell_type": "code",
   "execution_count": 1,
   "metadata": {},
   "outputs": [],
   "source": [
    "import pandas as pd\n",
    "import h5py\n",
    "import numpy as np\n",
    "import matplotlib.pyplot as plt\n",
    "import h5py\n",
    "import os"
   ]
  },
  {
   "cell_type": "code",
   "execution_count": 2,
   "metadata": {},
   "outputs": [],
   "source": [
    "with h5py.File(\"C:\\MessdatenStoeckach\\\\2017-04-04\\harmonics_phase_1_2017-04-04.h5\", \"r\") as f:\n",
    "    sh = np.array(f[\"tenperiodtable\"][\"harmonics_u\"][:,38:], dtype=np.float32)"
   ]
  },
  {
   "cell_type": "code",
   "execution_count": 3,
   "metadata": {},
   "outputs": [
    {
     "data": {
      "text/plain": [
       "(432007, 2960)"
      ]
     },
     "execution_count": 3,
     "metadata": {},
     "output_type": "execute_result"
    }
   ],
   "source": [
    "sh.shape"
   ]
  },
  {
   "cell_type": "code",
   "execution_count": 9,
   "metadata": {},
   "outputs": [],
   "source": [
    "newlength = sh.shape[0]//3000"
   ]
  },
  {
   "cell_type": "code",
   "execution_count": 10,
   "metadata": {},
   "outputs": [
    {
     "data": {
      "text/plain": [
       "144"
      ]
     },
     "execution_count": 10,
     "metadata": {},
     "output_type": "execute_result"
    }
   ],
   "source": [
    "newlength"
   ]
  },
  {
   "cell_type": "code",
   "execution_count": 12,
   "metadata": {},
   "outputs": [],
   "source": [
    "def groupedAvg(myArray, N=2):\n",
    "    result = np.cumsum(myArray, 0)[N-1::N]/float(N)\n",
    "    result[1:] = result[1:] - result[:-1]\n",
    "    return result"
   ]
  },
  {
   "cell_type": "code",
   "execution_count": 16,
   "metadata": {},
   "outputs": [
    {
     "name": "stdout",
     "output_type": "stream",
     "text": [
      "Wall time: 1min 14s\n"
     ]
    }
   ],
   "source": [
    "%%time\n",
    "shshort = groupedAvg(sh, 3000)"
   ]
  },
  {
   "cell_type": "code",
   "execution_count": 71,
   "metadata": {},
   "outputs": [],
   "source": [
    "HDF5_dir =\"C:\\MessdatenStoeckach\\\\\"\n",
    "dates = os.listdir(HDF5_dir)\n",
    "phases = [\"0\",\"1\",\"2\",\"3\"]"
   ]
  },
  {
   "cell_type": "code",
   "execution_count": 72,
   "metadata": {},
   "outputs": [
    {
     "name": "stdout",
     "output_type": "stream",
     "text": [
      "2017-04-01\n",
      "0\n",
      "1\n",
      "2\n",
      "3\n",
      "2017-04-02\n",
      "0\n",
      "1\n",
      "2\n",
      "3\n",
      "2017-04-18\n",
      "0\n",
      "1\n",
      "2\n",
      "3\n",
      "2017-04-24\n",
      "0\n",
      "1\n",
      "2\n",
      "3\n",
      "2017-04-28\n",
      "0\n",
      "1\n",
      "2\n",
      "3\n",
      "Wall time: 41min 1s\n"
     ]
    }
   ],
   "source": [
    "%%time\n",
    "dayly_aggregated = np.empty([0,2960])\n",
    "for date in dates:\n",
    "    print(date)\n",
    "    for phase in phases:\n",
    "        print(phase)\n",
    "        with h5py.File(HDF5_dir + date + \"\\\\\" + \"harmonics_phase_\" + phase + \"_\" + date + \".h5\", 'r') as f:\n",
    "            sh = np.array(f[\"tenperiodtable\"][\"harmonics_u\"][:,38:], dtype=np.float32)\n",
    "        sh_agg = groupedAvg(sh, 3000)\n",
    "        sh_agg = sh_agg*230\n",
    "        sh_agg[sh_agg<1e-4] = 1e-4\n",
    "        sh_agg = 20*np.log10(sh_agg/1e-6)\n",
    "        dayly_aggregated = np.vstack([dayly_aggregated, sh_agg])\n",
    "        del sh\n",
    "        del sh_agg"
   ]
  },
  {
   "cell_type": "code",
   "execution_count": 73,
   "metadata": {},
   "outputs": [],
   "source": [
    "no_agg_mean = np.array(pd.read_excel('C:\\\\MDS_alle\\\\overall_mean_excel.xlsx', index_col=0)[0])"
   ]
  },
  {
   "cell_type": "code",
   "execution_count": 74,
   "metadata": {},
   "outputs": [
    {
     "data": {
      "text/plain": [
       "array([125.42963326, 143.11342224, 127.76456126, ...,  78.65469587,\n",
       "        78.65431808,  78.65392587])"
      ]
     },
     "execution_count": 74,
     "metadata": {},
     "output_type": "execute_result"
    }
   ],
   "source": [
    "no_agg_mean"
   ]
  },
  {
   "cell_type": "code",
   "execution_count": 75,
   "metadata": {},
   "outputs": [],
   "source": [
    "agg_mean = dayly_aggregated.mean(axis=0)"
   ]
  },
  {
   "cell_type": "code",
   "execution_count": 76,
   "metadata": {},
   "outputs": [
    {
     "data": {
      "text/plain": [
       "array([127.49158266, 143.21193074, 128.83236116, ..., 102.14728863,\n",
       "       102.14670481, 102.14366149])"
      ]
     },
     "execution_count": 76,
     "metadata": {},
     "output_type": "execute_result"
    }
   ],
   "source": [
    "agg_mean"
   ]
  },
  {
   "cell_type": "code",
   "execution_count": 81,
   "metadata": {},
   "outputs": [
    {
     "data": {
      "image/png": "[encoded data removed]",
      "text/plain": [
       "<Figure size 432x288 with 1 Axes>"
      ]
     },
     "metadata": {
      "needs_background": "light"
     },
     "output_type": "display_data"
    }
   ],
   "source": [
    "plt.plot(agg_mean, label=\"agg\")\n",
    "plt.plot(no_agg_mean, label=\"no_agg\")\n",
    "plt.legend()\n",
    "plt.show()"
   ]
  },
  {
   "cell_type": "code",
   "execution_count": 86,
   "metadata": {},
   "outputs": [],
   "source": [
    "HDF5_dir =\"C:\\MessdatenStoeckach\\\\\"\n",
    "dates = os.listdir(HDF5_dir)\n",
    "phases = [\"0\"]"
   ]
  },
  {
   "cell_type": "code",
   "execution_count": 93,
   "metadata": {},
   "outputs": [
    {
     "name": "stdout",
     "output_type": "stream",
     "text": [
      "2017-04-24\n",
      "0\n",
      "Wall time: 1min 51s\n"
     ]
    }
   ],
   "source": [
    "%%time\n",
    "dayly_aggregated = np.empty([0,2960])\n",
    "for date in dates:\n",
    "    print(date)\n",
    "    for phase in phases:\n",
    "        print(phase)\n",
    "        with h5py.File(HDF5_dir + date + \"\\\\\" + \"harmonics_phase_\" + phase + \"_\" + date + \".h5\", 'r') as f:\n",
    "            sh = np.array(f[\"tenperiodtable\"][\"harmonics_u\"][:,38:], dtype=np.float32)\n",
    "        sh = sh*230\n",
    "        sh[sh<1e-4] = 1e-4\n",
    "        sh_agg = groupedAvg(sh, 3000)\n",
    "        sh_agg = 20*np.log10(sh_agg/1e-6)\n",
    "        \n",
    "        dayly_aggregated = np.vstack([dayly_aggregated, sh_agg])\n",
    "        del sh\n",
    "        del sh_agg"
   ]
  },
  {
   "cell_type": "code",
   "execution_count": 98,
   "metadata": {},
   "outputs": [
    {
     "name": "stdout",
     "output_type": "stream",
     "text": [
      "2017-04-24\n",
      "0\n",
      "Wall time: 2min 20s\n"
     ]
    }
   ],
   "source": [
    "%%time\n",
    "dayly_no_aggregated = np.empty([0,2960])\n",
    "for date in dates:\n",
    "    print(date)\n",
    "    for phase in phases:\n",
    "        print(phase)\n",
    "        with h5py.File(HDF5_dir + date + \"\\\\\" + \"harmonics_phase_\" + phase + \"_\" + date + \".h5\", 'r') as f:\n",
    "            sh = np.array(f[\"tenperiodtable\"][\"harmonics_u\"][:,38:], dtype=np.float32)\n",
    "        sh = sh*230\n",
    "        sh[sh<1e-4] = 1e-4\n",
    "        sh = 20*np.log10(sh/1e-6)\n",
    "        \n",
    "        dayly_no_aggregated = np.vstack([dayly_aggregated, sh])\n",
    "        del sh\n",
    "no_agg_mean = dayly_no_aggregated.mean(axis=0)"
   ]
  },
  {
   "cell_type": "code",
   "execution_count": 99,
   "metadata": {},
   "outputs": [
    {
     "data": {
      "image/png": "[encoded data removed]",
      "text/plain": [
       "<Figure size 432x288 with 1 Axes>"
      ]
     },
     "metadata": {
      "needs_background": "light"
     },
     "output_type": "display_data"
    }
   ],
   "source": [
    "plt.plot(agg_mean2, label=\"agg\")\n",
    "plt.plot(no_agg_mean, label=\"no_agg\")\n",
    "plt.legend()\n",
    "plt.show()"
   ]
  },
  {
   "cell_type": "code",
   "execution_count": null,
   "metadata": {},
   "outputs": [],
   "source": []
  }
 ],
 "metadata": {
  "kernelspec": {
   "display_name": "Python 3",
   "language": "python",
   "name": "python3"
  },
  "language_info": {
   "codemirror_mode": {
    "name": "ipython",
    "version": 3
   },
   "file_extension": ".py",
   "mimetype": "text/x-python",
   "name": "python",
   "nbconvert_exporter": "python",
   "pygments_lexer": "ipython3",
   "version": "3.7.7"
  }
 },
 "nbformat": 4,
 "nbformat_minor": 4
}
